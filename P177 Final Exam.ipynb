{
 "cells": [
  {
   "cell_type": "markdown",
   "metadata": {},
   "source": [
    "# P177: Final Exam\n",
    "Spring 2018\n",
    "\n",
    "**Due:** please complete by **Friday, June 15th**.  \n",
    "Pro-tip: do this way before then. \n",
    "\n",
    "**iEval:** please complete the [iEval](https://ieval.ucr.edu/) before **Friday, June 8th**. \n",
    "\n",
    "\n",
    "*Steven Cortez*"
   ]
  },
  {
   "cell_type": "markdown",
   "metadata": {},
   "source": [
    "## 1. Kaggle Tutorial \n",
    "\n",
    "1. Create a Kaggle account and navigate to the \"[Titanic: Machine Learning from Disaster](https://www.kaggle.com/c/titanic)\" competition. Read a bit about the challenge.\n",
    "\n",
    "2. Navigate to Helge Bjorland's \"[Interactive Data Science Tutorial](https://www.kaggle.com/helgejo/an-interactive-data-science-tutorial)\" that uses the Titanic dataset. (**Note:** in class we used [Rochelle Silva's tutorial](https://www.kaggle.com/rochellesilva/simple-tutorial-for-beginners), the Bjorland tutorial is probably a little more insightful.) \n",
    "\n",
    "3. **Fork** the tutorial and go through it. Run everything. You are not required to complete the \"exercises\" (cells where you have to type code), but you get extra credit if you do.\n",
    "\n",
    "4. Download the completed tutorial as a Jupyter notebook (`ipynb` file). Upload that notebook to your GitHub repository for this final."
   ]
  },
  {
   "cell_type": "markdown",
   "metadata": {},
   "source": [
    "## 2. Answer the Following Questions\n",
    "\n",
    "These are real questions where I'd like you to write a few sentences about your code. The goal is to show that you've thought carefully about your code and can say something insightful about your work. "
   ]
  },
  {
   "cell_type": "markdown",
   "metadata": {},
   "source": [
    "### a) What was your favorite homework problem? What did you learn from doing it?\n",
    "\n",
    "*My favorite homework problems were 6b and all of 7b. I really like 6b because that was the first homework that was challenging, it marked a pick up in difficulty for the class. For 7b I really liked how the diffusion models came out and how we could capture various stages of the diffusion process. A little bummed I couldn't get it to animate but overall was a neat homework.*"
   ]
  },
  {
   "cell_type": "markdown",
   "metadata": {},
   "source": [
    "### b) What was the most difficult problem? What was confusing or frustrating about it?\n",
    "\n",
    "*The most difficult homework problems for me were 6b and 8b. With 6b, for some reason I could not get it to do the colormap the way we had done it on the previous homework, I checked everything and I did not see an issue. I ended up fixing it by putting different parameters in pcolormap. Another problem that I ran into on this hw, which ended up being a silly mistake, was at first when I was testing out my code, the teperature would always rise for all x's even on the cold side. I had no idea why that was happening but I eventually figured out it was because my dt was too big.*"
   ]
  },
  {
   "cell_type": "markdown",
   "metadata": {},
   "source": [
    "### c) In your own words, give an example of a problem where you would use Markov Chain Monte Carlo (MCMC). Briefly describe how MCMC works.\n",
    "\n",
    "*Aside from the applications that we used MCMC for in class, it could also be used for crytography, or breaking codes. To do this, the first thing we should know is what language is this code written in(Ex. English). From there we treat the coded message as an output of a mystery function. We solve for this mystery function by inputing a sample text, like a book, in that language into our program so that a plausability equation(P) can be configured. From there this is were MCMC takes place. First we start with an initial guess(g) of what all the symbols could mean, assigning them a random letter from the language's alphabet but not using the same letter for 2 symbols. From there we calculate this g's plausability(P(g)). Next we randomly select 2 symbols and have their assignments swapped. The plausability(P(g')) for this new arrangement is calculated. If P(g') is larger than P(g), g' becomes g to use for our next step. If P(g) is larger than P(g') then a random number is chosen between 0 and 1. If the random number generated is less than P(g')/P(g), then g' becomes g and is used for the next step. If the random number is more, then g is used for the next step. As more steps in MCMC are produced, g should become closer to what the mystery function is. *"
   ]
  },
  {
   "cell_type": "markdown",
   "metadata": {},
   "source": [
    "### d) ELI5: Pick one technical idea from the course and explain it to a five-year-old.\n",
    "\n",
    "*[Fill in your answer. Possible topics include the Ising model, Euler's method, Riemann sum integration, Monte Carlo, etc. Don't write an essay. ]\n",
    "*\n",
    "Euler's method of integration is taking lots of very tiny steps to see how the value of a function accumulates over a range(Ex. time). This can only be done by having an initial starting point and knowing the rate the function changes, or its derivative. So we first start at our initial given point. We now want to know the value of the function if we take a small step forward in our range(like a very small step forward in time, dt). We take the initial point(f(t)) and add the product of the rate of change at our initial point(g(f,t)=f') and the size of the very small step we took(dt). As an equation this looks like f(t+dt)=f(t)+g(f,t)*dt. Next we go from this new point(f(t0+dt)) and do the same process as before to see the value of f(t) at 2*dt forward in time from the initial point. We continue this process until we have completed the desired range.\n",
    "\n",
    "PS: Someone told me that this ELI5 is a subbreddit and is not always exactly like I am explaining to an actual 5 year old so that made this section a lot less complicated than I tried to make it haha"
   ]
  },
  {
   "cell_type": "markdown",
   "metadata": {},
   "source": [
    "## 3. Evaluation (not for a grade)\n",
    "\n",
    "I hope you filled out the `iEval` before Jun 8th. In this cell, please feel free to share constructive criticism about the course. What did you like? What did you not like? Are there topics that you really wish we covered or didn't cover? What should I know to be a better lecturer?\n",
    "\n",
    "*I really liked the way you taught the class and how you broke it down into very simple terms. I also thought it was beneficial that you would code the algorithms we were to use with us in class. One thing I thought could've been done was a less steep ramping of difficulty. I liked that the difficulty picked up from 6b on but it was pretty sudden from the previous homeworks being really easy. Maybe the first few homeworks could increase more in difficulty so there's not a sudden shift.*"
   ]
  },
  {
   "cell_type": "markdown",
   "metadata": {},
   "source": [
    "## Closing thoughts\n",
    "\n",
    "It's been a real joy to be part of this class---I was really impressed by each of your midterm presentations and have had a lot of fun with our discussions. In whatever is ahead of you beyond this class, I look forward to hearing how you each succeed.\n",
    "\n",
    "I encourage you to make your GitHub repositories public (you may need to duplicate them) so that you can show them off to the world."
   ]
  }
 ],
 "metadata": {
  "kernelspec": {
   "display_name": "Python 3",
   "language": "python",
   "name": "python3"
  },
  "language_info": {
   "codemirror_mode": {
    "name": "ipython",
    "version": 3
   },
   "file_extension": ".py",
   "mimetype": "text/x-python",
   "name": "python",
   "nbconvert_exporter": "python",
   "pygments_lexer": "ipython3",
   "version": "3.6.5"
  }
 },
 "nbformat": 4,
 "nbformat_minor": 2
}
